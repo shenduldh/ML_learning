{
 "cells": [
  {
   "cell_type": "markdown",
   "metadata": {},
   "source": [
    "# mini-batch梯度下降\r\n",
    "\r\n",
    "我们在之前实战编程中一直都是用梯度下降算法来更新参数来使成本函数最小化。\r\n",
    "\r\n",
    "在梯度下降的每一步中，都会朝着某个方向来更新参数以找到成本函数的最小值处。\r\n",
    "\r\n",
    "首先加载一些系统工具库以及一些我们自定义的库。"
   ]
  },
  {
   "cell_type": "code",
   "execution_count": 18,
   "metadata": {},
   "outputs": [],
   "source": [
    "import numpy as np\r\n",
    "from testCases import *\r\n",
    "\r\n",
    "%matplotlib inline"
   ]
  },
  {
   "cell_type": "markdown",
   "metadata": {},
   "source": [
    "## 1. 梯度下降\r\n",
    "\r\n",
    "之前我们一直使用的梯度下降算法只是一个简单的基础优化算法。\r\n",
    "\r\n",
    "如果每次梯度下降的学习对象都是所有的样本，那么这个梯度下降算法就叫做Batch梯度下降。\r\n",
    "\r\n",
    "下面这个就是梯度下降中用来更新参数的函数。"
   ]
  },
  {
   "cell_type": "code",
   "execution_count": 19,
   "metadata": {},
   "outputs": [],
   "source": [
    "def update_parameters_with_gd(parameters, grads, learning_rate):\r\n",
    "    # 获取神经网络的层数。这里除以2是因为字典里面包含了w和b两种参数。\r\n",
    "    L = len(parameters) // 2\r\n",
    "\r\n",
    "    # 遍历每一层\r\n",
    "    for l in range(L):\r\n",
    "        # 下面使用l + 1，是因为l是从0开始的，而我们的参数字典是从1开始的\r\n",
    "        parameters[\"W\" + str(l + 1)] = parameters[\"W\" + str(l + 1)] - learning_rate * grads[\"dW\" + str(l + 1)]\r\n",
    "        parameters[\"b\" + str(l + 1)] = parameters[\"b\" + str(l + 1)] - learning_rate * grads[\"db\" + str(l + 1)]\r\n",
    "        \r\n",
    "    return parameters"
   ]
  },
  {
   "cell_type": "code",
   "execution_count": 20,
   "metadata": {
    "scrolled": true
   },
   "outputs": [
    {
     "name": "stdout",
     "output_type": "stream",
     "text": [
      "W1 = [[ 1.63535156 -0.62320365 -0.53718766]\n",
      " [-1.07799357  0.85639907 -2.29470142]]\n",
      "b1 = [[ 1.74604067]\n",
      " [-0.75184921]]\n",
      "W2 = [[ 0.32171798 -0.25467393  1.46902454]\n",
      " [-2.05617317 -0.31554548 -0.3756023 ]\n",
      " [ 1.1404819  -1.09976462 -0.1612551 ]]\n",
      "b2 = [[-0.88020257]\n",
      " [ 0.02561572]\n",
      " [ 0.57539477]]\n"
     ]
    }
   ],
   "source": [
    "parameters, grads, learning_rate = update_parameters_with_gd_test_case()\n",
    "\n",
    "parameters = update_parameters_with_gd(parameters, grads, learning_rate)\n",
    "print(\"W1 = \" + str(parameters[\"W1\"]))\n",
    "print(\"b1 = \" + str(parameters[\"b1\"]))\n",
    "print(\"W2 = \" + str(parameters[\"W2\"]))\n",
    "print(\"b2 = \" + str(parameters[\"b2\"]))"
   ]
  },
  {
   "cell_type": "markdown",
   "metadata": {},
   "source": [
    "与batch梯度下降相对的另一个极端是随机梯度下降。\r\n",
    "\r\n",
    "当mini-batch梯度下降的子数据集中只有1个样本时，就是随机梯度下降。\r\n",
    "\r\n",
    "这3种梯度下降算法的参数更新算法都是一样的（都是用上面我们实现的更新函数）。\r\n",
    "\r\n",
    "不同的是，随机梯度下降每次的学习对象只有一个样本，而batch梯度下降每次的学习对象是所有样本。\r\n",
    "\r\n",
    "下面的两个代码段展示了batch梯度下降和随机梯度下降的差别。\r\n",
    "\r\n",
    "**batch梯度下降**：\r\n",
    "\r\n",
    "``` python\r\n",
    "X = data_input\r\n",
    "Y = labels\r\n",
    "parameters = initialize_parameters(layers_dims)\r\n",
    "for i in range(0, num_iterations):\r\n",
    "    a, caches = forward_propagation(X, parameters)\r\n",
    "    cost = compute_cost(a, Y)\r\n",
    "    grads = backward_propagation(a, caches, parameters)\r\n",
    "    parameters = update_parameters(parameters, grads)\r\n",
    "        \r\n",
    "```\r\n",
    "\r\n",
    "**随机梯度下降**：\r\n",
    "\r\n",
    "```python\r\n",
    "X = data_input\r\n",
    "Y = labels\r\n",
    "parameters = initialize_parameters(layers_dims)\r\n",
    "for i in range(0, num_iterations):\r\n",
    "    # 遍历循环每一个样本\r\n",
    "    for j in range(0, m):\r\n",
    "        a, caches = forward_propagation(X[:,j], parameters)\r\n",
    "        cost = compute_cost(a, Y[:,j])\r\n",
    "        grads = backward_propagation(a, caches, parameters)\r\n",
    "        parameters = update_parameters(parameters, grads)\r\n",
    "```"
   ]
  },
  {
   "cell_type": "markdown",
   "metadata": {},
   "source": [
    "在随机梯度下降中，每次都只使用一个样本来进行梯度下降。如果你的数据集非常大，那么使用随机梯度下降可能会比batch梯度下降更快。但是随机梯度下降的方向会很不稳定。如下图所示，左图是随机梯度下降，右图是batch梯度下降。\r\n",
    "\r\n",
    "<img src=\"images/kiank_sgd.png\" style=\"width:750px;height:250px;\">\r\n",
    "<caption><center>图1：随机梯度下降 vs batch梯度下降</center></caption>\r\n",
    "\r\n",
    "另外有些同学应该也注意到了，随机梯度下降要使用3个循环：\r\n",
    "\r\n",
    "1. 遍历每一次梯度下降iteration。\r\n",
    "2. 遍历所有样本。\r\n",
    "3. 遍历神经网络的每一层。\r\n",
    "\r\n",
    "在实际编程中，往往使用mini-batch梯度下降会比batch梯度下降和随机梯度下降都要高效，使神经网络学习得更快。下面两个图展示了随机梯度下降和mini-batch梯度下降的学习路径。\r\n",
    "\r\n",
    "<img src=\"images/kiank_minibatch.png\" style=\"width:750px;height:250px;\">\r\n",
    "<caption><center>图2：随机梯度下降 vs mini-batch梯度下降</center></caption>\r\n",
    "\r\n",
    "**下面三点大家需要牢记**：\r\n",
    "- 这3个梯度下降的区别仅仅在于它们每次学习的样本数量不同。\r\n",
    "- 无论是哪种梯度下降，学习率都是必须要精心调的。\r\n",
    "- 通常来说，如果数据集很大，那么mini-batch梯度下降会比另外2种要高效。"
   ]
  },
  {
   "cell_type": "markdown",
   "metadata": {},
   "source": [
    "## 2. mini-batch梯度下降\r\n",
    "\r\n",
    "下面我们来学习如何从训练集(X, Y)中创建mini-batch，分两个步骤：\r\n",
    "\r\n",
    "- **洗牌**：如下图所示，将训练集(X, Y)进行洗牌——将样本随机调换位置。这样一来，每一次的子训练集中都包含着不同的样本。下图中每一列就代表了一个训练样本。注意，在洗牌时，X和Y是被绑在一起进行洗牌的，也就是说，在洗牌后，之前第$i^{th}$列中的X还是与之前$i^{th}$列的Y是一对。\r\n",
    "\r\n",
    "    <img src=\"images/kiank_shuffle.png\" style=\"width:550px;height:300px;\">\r\n",
    "\r\n",
    "- **分割**：将洗牌后的训练集划分为一个个小的子训练集。这里我们每个子训练集中有64个样本，也就是说mini_batch_size是64。注意，有时候训练集无法被mini_batch_size整除，那么最后一个子训练集里面的样本数就会小于mini_batch_size，这个是没有关系的。 \r\n",
    "\r\n",
    "    <img src=\"images/kiank_partition.png\" style=\"width:550px;height:300px;\">\r\n",
    "\r\n",
    "下面的函数实现了上面两步。"
   ]
  },
  {
   "cell_type": "code",
   "execution_count": 21,
   "metadata": {},
   "outputs": [],
   "source": [
    "def random_mini_batches(X, Y, mini_batch_size = 64, seed = 0):\r\n",
    "    np.random.seed(seed)            \r\n",
    "    m = X.shape[1]  # 获取样本数量\r\n",
    "    mini_batches = []\r\n",
    "        \r\n",
    "    # 第一步：洗牌训练集\r\n",
    "    # 对0~(m-1)的序列进行随机排序\r\n",
    "    # 如果m是3，那么结果可能为[2, 0, 1]\r\n",
    "    permutation = list(np.random.permutation(m))\r\n",
    "    # X[行,列]\r\n",
    "    # X[:,n]：表示把所有行中的第n个元素取出\r\n",
    "    # X[n,:]：表示把第n行的所有元素取出\r\n",
    "    # X[:,n:m]：表示把所有行中的从n到m-1的元素取出\r\n",
    "    # X[n:m,:]：表示把从n到m-1行的所有元素取出\r\n",
    "    # X[:,[3,2,1]]：表示把所有行的第3、2、1个元素按顺序取出，或者说是把第3、2、1列的元素取出\r\n",
    "    shuffled_X = X[:, permutation] # 将X按permutation列表里的索引顺序进行重排列\r\n",
    "    # 同时要保证标签和数据在洗牌前后还是一对\r\n",
    "    # reshape((1,m))用于保证维度正确，因为有时候Python内部会自动改变维度\r\n",
    "    shuffled_Y = Y[:, permutation].reshape((1,m))\r\n",
    "\r\n",
    "    # 第二步：分割洗牌后的训练集\r\n",
    "    # 获取子训练集的个数（不包括后面不满mini_batch_size的那个子训练集）\r\n",
    "    num_complete_minibatches = math.floor(m/mini_batch_size)\r\n",
    "    # 循环取出满mini_batch_size的子训练集\r\n",
    "    for k in range(0, num_complete_minibatches):\r\n",
    "        mini_batch_X = shuffled_X[:,k * mini_batch_size:(k + 1) * mini_batch_size]\r\n",
    "        mini_batch_Y = shuffled_Y[:,k * mini_batch_size:(k + 1) * mini_batch_size]\r\n",
    "        mini_batch = (mini_batch_X, mini_batch_Y)\r\n",
    "        mini_batches.append(mini_batch)\r\n",
    "    \r\n",
    "    # 取出后面不满mini_batch_size的那个子训练集\r\n",
    "    if m % mini_batch_size != 0:\r\n",
    "        mini_batch_X = shuffled_X[:,num_complete_minibatches * mini_batch_size:]\r\n",
    "        mini_batch_Y = shuffled_Y[:,num_complete_minibatches * mini_batch_size:]\r\n",
    "        mini_batch = (mini_batch_X, mini_batch_Y)\r\n",
    "        mini_batches.append(mini_batch)\r\n",
    "    \r\n",
    "    return mini_batches"
   ]
  },
  {
   "cell_type": "code",
   "execution_count": 22,
   "metadata": {},
   "outputs": [
    {
     "name": "stdout",
     "output_type": "stream",
     "text": [
      "第一个mini_batch_X的维度: (12288, 64)\n",
      "第二个mini_batch_X的维度: (12288, 64)\n",
      "第三个mini_batch_X的维度: (12288, 20)\n",
      "第一个mini_batch_Y的维度: (1, 64)\n",
      "第二个mini_batch_Y的维度: (1, 64)\n",
      "第三个mini_batch_Y的维度: (1, 20)\n"
     ]
    }
   ],
   "source": [
    "X_assess, Y_assess, mini_batch_size = random_mini_batches_test_case()\n",
    "mini_batches = random_mini_batches(X_assess, Y_assess, mini_batch_size)\n",
    "\n",
    "print(\"第一个mini_batch_X的维度: \" + str(mini_batches[0][0].shape))\n",
    "print(\"第二个mini_batch_X的维度: \" + str(mini_batches[1][0].shape))\n",
    "print(\"第三个mini_batch_X的维度: \" + str(mini_batches[2][0].shape))\n",
    "print(\"第一个mini_batch_Y的维度: \" + str(mini_batches[0][1].shape))\n",
    "print(\"第二个mini_batch_Y的维度: \" + str(mini_batches[1][1].shape)) \n",
    "print(\"第三个mini_batch_Y的维度: \" + str(mini_batches[2][1].shape))"
   ]
  },
  {
   "cell_type": "markdown",
   "metadata": {},
   "source": [
    "**大家需要记住下面几点**：\r\n",
    "- 洗牌和分割是实现mini-batch梯度下降的两个重要步骤。\r\n",
    "- mini-batch的大小一般选择2的次方。"
   ]
  }
 ],
 "metadata": {
  "coursera": {
   "course_slug": "deep-neural-network",
   "graded_item_id": "Ckiv2",
   "launcher_item_id": "eNLYh"
  },
  "kernelspec": {
   "display_name": "Python 3.8.5 64-bit ('base': conda)",
   "name": "python385jvsc74a57bd007efdcd4b820c98a756949507a4d29d7862823915ec7477944641bea022f4f62"
  },
  "language_info": {
   "codemirror_mode": {
    "name": "ipython",
    "version": 3
   },
   "file_extension": ".py",
   "mimetype": "text/x-python",
   "name": "python",
   "nbconvert_exporter": "python",
   "pygments_lexer": "ipython3",
   "version": "3.8.5"
  }
 },
 "nbformat": 4,
 "nbformat_minor": 1
}